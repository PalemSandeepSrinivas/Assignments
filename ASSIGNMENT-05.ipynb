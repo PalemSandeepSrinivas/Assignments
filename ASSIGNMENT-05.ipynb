{
 "cells": [
  {
   "cell_type": "markdown",
   "id": "dd51338a",
   "metadata": {},
   "source": [
    "### ASSIGNMENT 05"
   ]
  },
  {
   "cell_type": "code",
   "execution_count": null,
   "id": "f49e4e28",
   "metadata": {},
   "outputs": [],
   "source": [
    "# 1. What does an empty dictionary&#39;s code look like?\n",
    "To create an empty dictionary, the dictionary should be set to {}. This is shown in the code below. So, with this code above, we create a dictionary called items which is set equal to {}. \n",
    "So this dictionary named items is empty.\n",
    "\n",
    "# 2. What is the value of a dictionary value with the key foo and the value 42?\n",
    "\n",
    "dict_values([42])\n",
    "\n",
    "# 3. What is the most significant distinction between a dictionary and a list?\n",
    "\n",
    "A list is an ordered sequence of objects, whereas dictionaries are unordered sets. However, the main difference is that\n",
    "items in dictionaries are accessed via keys and not via their position.\n",
    "\n",
    "# 4. What happens if you try to access spam[foo] if spam is {bar: 100}?\n",
    "\n",
    "KeyError: 'foo'\n",
    "\n",
    "# 5. If a dictionary is stored in spam, what is the difference between the expressions cat in spam and\n",
    "cat in spam.keys()?\n",
    "\n",
    "There is no difference. The in operator checks whether a value exists as a key in the dictionary. 'cat' in spam checks whether\n",
    "there is a 'cat' key in the dictionary, while 'cat' in spam. keys() checks whether there is a key 'cat' for one of the \n",
    "keys in spam .\n",
    "\n",
    "# 6. If a dictionary is stored in spam, what is the difference between the expressions cat in spam and cat in spam.values()?\n",
    "\n",
    "The in operator checks whether a value exists as a key in the dictionary. 'cat' in spam checks whether there is a 'cat' key \n",
    "in the dictionary, while 'cat' in spam. values() checks whether there is a value 'cat' for one of the keys in spam .\n",
    "\n",
    "# 7. What is a shortcut for the following code?\n",
    "if color not in spam:\n",
    "    spam['color'] = 'black'\n",
    "    \n",
    "spam = {}\n",
    "spam['color']='black' if 'color' not in spam else Pass\n",
    "## short hand if esle statement....\n",
    "\n",
    "# 8. How do you pretty print dictionary values using which module and function?\n",
    "\n",
    "Use pprint() to Pretty Print a Dictionary in Python\n",
    "Within the pprint module there is a function with the same name pprint() , which is the function used to pretty-print the\n",
    "given string or object. First, declare an array of dictionaries. Afterward, pretty print it using the function pprint."
   ]
  }
 ],
 "metadata": {
  "kernelspec": {
   "display_name": "Python 3 (ipykernel)",
   "language": "python",
   "name": "python3"
  },
  "language_info": {
   "codemirror_mode": {
    "name": "ipython",
    "version": 3
   },
   "file_extension": ".py",
   "mimetype": "text/x-python",
   "name": "python",
   "nbconvert_exporter": "python",
   "pygments_lexer": "ipython3",
   "version": "3.7.11"
  }
 },
 "nbformat": 4,
 "nbformat_minor": 5
}
