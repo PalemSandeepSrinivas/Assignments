{
 "cells": [
  {
   "cell_type": "markdown",
   "id": "dd51338a",
   "metadata": {},
   "source": [
    "### ASSIGNMENT 06"
   ]
  },
  {
   "cell_type": "code",
   "execution_count": null,
   "id": "ed4ffebb",
   "metadata": {},
   "outputs": [],
   "source": [
    "# 1. What are escape characters, and how do you use them?\n",
    "\n",
    "In Python strings, the backslash \"\\\" is a special character, also called the \"escape\" character. It is used in representing \n",
    "certain whitespace characters: \"\\t\" is a tab, \"\\n\" is a newline, and \"\\r\" is a carriage return. Conversely, prefixing a special\n",
    "character with \"\\\" turns it into an ordinary character.\n",
    "\n",
    "# 2. What do the escape characters n and t stand for?\n",
    "\n",
    "In Python strings, the backslash \"\\\" is a special character, also called the \"escape\" character. It is used in representing \n",
    "certain whitespace characters: \"\\t\" is a tab, \"\\n\" is a newline, and \"\\r\" is a carriage return.\n",
    "\n",
    "# 3. What is the way to include backslash characters in a string?\n",
    "Use the syntax \"\\\\\" within the string literal to represent a single backslash.\n",
    "\n",
    "# 4. The string &quot;Howl's Moving Castle&quot; is a correct value. Why isn't the single quote character in the\n",
    "word Howl is not escaped a problem?\n",
    "\n",
    "The single quote in Howl's is fine because you've used double quotes to mark the beginning and end of the string.\n",
    "\n",
    "# 5. How do you write a string of newlines if you don't want to use the n character?\n",
    "\n",
    "Just use \\n ; Python automatically translates that to the proper newline character.\n",
    "\n",
    "# 6. What are the values of the given expressions?\n",
    "\n",
    "'Hello, world'[1] -- 'e'\n",
    "'Hello, world'[0:5] -- 'Hello'\n",
    "'Hello, world'[:5] -- 'Hello'\n",
    "'Hello, world'[3:] -- 'lo, world'\n",
    "\n",
    "# 7. What are the values of the following expressions?\n",
    "\n",
    "'Hello'.upper() -- 'HELLO'\n",
    "'Hello'.upper().isupper() -- True\n",
    "'Hello'.upper().lower() -- 'hello'\n",
    "\n",
    "# 8. What are the values of the following expressions?\n",
    "\n",
    "'Remember, remember, the fifth of July.'.split()\n",
    "\n",
    "['Remember,', 'remember,', 'the', 'fifth', 'of', 'July.']\n",
    "\n",
    "'-'.join('There can only one.'.split())\n",
    "\n",
    "'There-can-only-one.'\n",
    "\n",
    "# 9. What are the methods for right-justifying, left-justifying, and centering a string? \n",
    "\n",
    "Python String contains two built-in methods to provide the left and right justification.\n",
    "Python String ljust() function. Python String ljust() function accepts the character for padding it to the input string.\n",
    "Python String rjust() function.\n",
    "\n",
    "# 10. What is the best way to remove whitespace characters from the start or end?\n",
    "\n",
    "String. Trim() removes all whitespace from the beginning and end of a string."
   ]
  }
 ],
 "metadata": {
  "kernelspec": {
   "display_name": "Python 3 (ipykernel)",
   "language": "python",
   "name": "python3"
  },
  "language_info": {
   "codemirror_mode": {
    "name": "ipython",
    "version": 3
   },
   "file_extension": ".py",
   "mimetype": "text/x-python",
   "name": "python",
   "nbconvert_exporter": "python",
   "pygments_lexer": "ipython3",
   "version": "3.7.11"
  }
 },
 "nbformat": 4,
 "nbformat_minor": 5
}
